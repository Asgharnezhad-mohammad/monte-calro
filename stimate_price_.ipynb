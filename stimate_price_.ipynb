{
  "nbformat": 4,
  "nbformat_minor": 0,
  "metadata": {
    "colab": {
      "name": "stimate price .ipynb",
      "provenance": [],
      "authorship_tag": "ABX9TyPksI6FrnciOBOgo1d3Fzo9",
      "include_colab_link": true
    },
    "kernelspec": {
      "name": "python3",
      "display_name": "Python 3"
    },
    "language_info": {
      "name": "python"
    }
  },
  "cells": [
    {
      "cell_type": "markdown",
      "metadata": {
        "id": "view-in-github",
        "colab_type": "text"
      },
      "source": [
        "<a href=\"https://colab.research.google.com/github/Mohasg77/monte-calro/blob/master/stimate_price_.ipynb\" target=\"_parent\"><img src=\"https://colab.research.google.com/assets/colab-badge.svg\" alt=\"Open In Colab\"/></a>"
      ]
    },
    {
      "cell_type": "code",
      "execution_count": null,
      "metadata": {
        "id": "CzVshRVXrahH"
      },
      "outputs": [],
      "source": [
        "from numpy import *\n",
        "import matplotlib.pyplot as plt\n",
        "\n",
        "paths = 200 \n",
        "initial_price = 250\n",
        "volatility = 0.25 \n",
        "t = 365 \n",
        "drift = 0.22\n",
        "\n",
        "prices = list()\n",
        "current_price = initial_price\n",
        "dt = 1 / t\n",
        "T = 1\n",
        "dYt = 0\n",
        "price_paths = []\n",
        "while T - dt > 0 :\n",
        "  dWt = random.normal(0 ,sqrt(dt)) \n",
        "  dYt = drift * dt + volatility * dWt  \n",
        "  current_price += dYt  \n",
        "  prices.append(current_price)  \n",
        "  T -= dt \n",
        "for i in range(0, paths):\n",
        "  price_paths.append(prices) \n",
        "for i in price_paths:\n",
        "  plt.plot(i)\n",
        "plt.show()\n",
        "print(price_paths ,'\\n')\n",
        "print(dYt ,'\\n')\n",
        "print(dWt ,'\\n')\n",
        "print(current_price ,'\\n')\n",
        "print(prices ,'\\n')"
      ]
    }
  ]
}