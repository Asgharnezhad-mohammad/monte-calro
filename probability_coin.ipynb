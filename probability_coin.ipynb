{
  "nbformat": 4,
  "nbformat_minor": 0,
  "metadata": {
    "colab": {
      "name": "probability coin.ipynb",
      "provenance": [],
      "collapsed_sections": [],
      "authorship_tag": "ABX9TyO0mcHSHT51aO7qS0W8u6XJ",
      "include_colab_link": true
    },
    "kernelspec": {
      "name": "python3",
      "display_name": "Python 3"
    },
    "language_info": {
      "name": "python"
    }
  },
  "cells": [
    {
      "cell_type": "markdown",
      "metadata": {
        "id": "view-in-github",
        "colab_type": "text"
      },
      "source": [
        "<a href=\"https://colab.research.google.com/github/Mohasg77/monte-calro/blob/master/probability_coin.ipynb\" target=\"_parent\"><img src=\"https://colab.research.google.com/assets/colab-badge.svg\" alt=\"Open In Colab\"/></a>"
      ]
    },
    {
      "cell_type": "code",
      "metadata": {
        "colab": {
          "base_uri": "https://localhost:8080/"
        },
        "id": "PaRahm14bPa3",
        "outputId": "2ff41530-2f94-4ee9-d71a-2c4510198572"
      },
      "source": [
        "import random\n",
        "\n",
        "x = 0 \n",
        "r = 0\n",
        "for i in range(1000):\n",
        "  a = random.uniform(0,1)\n",
        "  if (a>1/2):x = 1; r += x  \n",
        "print(r/1000)\n",
        "# مقدار احتمال پرتاب سکه درچندین پرتاب متوالی"
      ],
      "execution_count": 2,
      "outputs": [
        {
          "output_type": "stream",
          "name": "stdout",
          "text": [
            "0.487\n"
          ]
        }
      ]
    },
    {
      "cell_type": "code",
      "metadata": {
        "colab": {
          "base_uri": "https://localhost:8080/"
        },
        "id": "cwIIgyInjCnB",
        "outputId": "8d9fab89-ed15-40f9-efb5-d9c792c0584c"
      },
      "source": [
        "%reset -f\n",
        "import random\n",
        "\n",
        "a = 0\n",
        "b = 1\n",
        "while not(abs(a/b - 0.5) < 10**-3 and b >= 100):\n",
        "  b += 1\n",
        "  if random.uniform(0,1) > 1/2 :\n",
        "    a += 1\n",
        "print(a/b)\n",
        "print(b)\n"
      ],
      "execution_count": 6,
      "outputs": [
        {
          "output_type": "stream",
          "name": "stdout",
          "text": [
            "0.5007429420505201\n",
            "673\n"
          ]
        }
      ]
    },
    {
      "cell_type": "code",
      "source": [
        "%reset -f\n",
        "import random\n",
        "from random import seed\n",
        "\n",
        "hasel = 0\n",
        "def stimate(r):\n",
        "  if r < 1/2: p = 0\n",
        "  else: p = 1\n",
        "  return p\n",
        "for i in range(100000):\n",
        "  hasel += stimate(random.uniform(0,1))\n",
        "print(hasel/100000)\n"
      ],
      "metadata": {
        "id": "nfuizcnl2VWv"
      },
      "execution_count": null,
      "outputs": []
    },
    {
      "cell_type": "code",
      "source": [
        "%reset -f\n",
        "import numpy as np\n",
        "from numpy.random import randint\n",
        "from numpy.random import seed \n",
        "\n",
        "adade_tasadofi = 0\n",
        "for i in range(1000000):\n",
        "    adade_tasadofi += randint(0,2)\n",
        "print(adade_tasadofi/1000000) "
      ],
      "metadata": {
        "id": "MsK7sF452SGm"
      },
      "execution_count": null,
      "outputs": []
    },
    {
      "cell_type": "code",
      "metadata": {
        "colab": {
          "base_uri": "https://localhost:8080/"
        },
        "id": "PGh1tVH7snyL",
        "outputId": "9b0e1be2-face-40ef-bc9c-7e654bd47986"
      },
      "source": [
        "%reset -f\n",
        "import random\n",
        "from random import randint\n",
        "from random import seed\n",
        "\n",
        "#seed(1)\n",
        "x = 0\n",
        "k = 1\n",
        "while (k < 100 and abs(x/k - 0.5) > 10**(-3)):\n",
        "  k += 1 \n",
        "  x += randint(0,1)\n",
        "print(x/k)\n",
        "print(k)"
      ],
      "execution_count": 8,
      "outputs": [
        {
          "output_type": "stream",
          "name": "stdout",
          "text": [
            "0.5\n",
            "2\n"
          ]
        }
      ]
    }
  ]
}