{
  "nbformat": 4,
  "nbformat_minor": 0,
  "metadata": {
    "colab": {
      "name": "Roll tas1.ipynb",
      "provenance": [],
      "collapsed_sections": [],
      "authorship_tag": "ABX9TyOa0LNaYT2yrtff2ag0JLiq",
      "include_colab_link": true
    },
    "kernelspec": {
      "name": "python3",
      "display_name": "Python 3"
    },
    "language_info": {
      "name": "python"
    }
  },
  "cells": [
    {
      "cell_type": "markdown",
      "metadata": {
        "id": "view-in-github",
        "colab_type": "text"
      },
      "source": [
        "<a href=\"https://colab.research.google.com/github/Mohasg77/monte-calro/blob/master/Roll_tas1.ipynb\" target=\"_parent\"><img src=\"https://colab.research.google.com/assets/colab-badge.svg\" alt=\"Open In Colab\"/></a>"
      ]
    },
    {
      "cell_type": "code",
      "metadata": {
        "id": "nxh_xH33vktS",
        "colab": {
          "base_uri": "https://localhost:8080/"
        },
        "outputId": "5dbdfc4f-45c5-454b-a17a-6e879d716a84"
      },
      "source": [
        "import random\n",
        "import timeit\n",
        "\n",
        "roll = \"y\"\n",
        "while roll == \"y\" :\n",
        "  print(\"first tas :\",random.randint(1,6),'\\n'\"second tas :\", random.randint(1,6))\n",
        "  roll= input(\"whould u like Roll again ? enter (y) ===>\")\n",
        "print(timeit.timeit())\n"
      ],
      "execution_count": 1,
      "outputs": [
        {
          "output_type": "stream",
          "name": "stdout",
          "text": [
            "first tas : 2 \n",
            "second tas : 1\n",
            "whould u like Roll again ? enter (y) ===>d\n",
            "0.015917220000005727\n"
          ]
        }
      ]
    },
    {
      "cell_type": "code",
      "source": [
        "%reset -f\n",
        "from numpy import random\n",
        "import timeit\n",
        "\n",
        "x = random.uniform(0,1)\n",
        "y = random.uniform(0,1)\n",
        "print(\"x = \",x ,'\\n'\"y = \",y)\n",
        "while x < 1/6 :\n",
        "  if y < 1/6 :\n",
        "    print(\"tas 1 :\", 1 ,'\\n'\"tas 2 :\", 1)\n",
        "  elif 1/6 <= y < 2/6 :\n",
        "    print(\"tas 1 :\", 1 ,'\\n'\"tas 2 :\", 2)\n",
        "  elif 2/6 <= y < 3/6 :\n",
        "    print(\"tas 1 :\", 1 ,'\\n'\"tas 2 :\", 3)\n",
        "  elif 3/6 <= y < 4/6 :\n",
        "    print(\"tas 1 :\", 1 ,'\\n'\"tas 2 :\", 4)\n",
        "  elif 4/6 <= y < 5/6 :\n",
        "    print(\"tas 1 :\", 1 ,'\\n'\"tas 2 :\", 5)\n",
        "  else :\n",
        "    print(\"tas 1 :\", 1 ,'\\n'\"tas 2 :\", 6)\n",
        "  break\n",
        "while 1/6 <= x < 2/6 :\n",
        "  if y < 1/6 :\n",
        "    print(\"tas 1 :\", 2 ,'\\n'\"tas 2 :\", 1)\n",
        "  elif 1/6 <= y < 2/6 :\n",
        "    print(\"tas 1 :\", 2 ,'\\n'\"tas 2 :\", 2)\n",
        "  elif 2/6 <= y < 3/6 :\n",
        "    print(\"tas 1 :\", 2 ,'\\n'\"tas 2 :\", 3)\n",
        "  elif 3/6 <= y < 4/6 :\n",
        "    print(\"tas 1 :\", 2 ,'\\n'\"tas 2 :\", 4)\n",
        "  elif 4/6 <= y < 5/6 :\n",
        "    print(\"tas 1 :\", 2 ,'\\n'\"tas 2 :\", 5)\n",
        "  else :\n",
        "    print(\"tas 1 :\", 2 ,'\\n'\"tas 2 :\", 6)\n",
        "  break\n",
        "while 2/6 <= x < 3/6 :\n",
        "  if y < 1/6 :\n",
        "    print(\"tas 1 :\", 3 ,'\\n'\"tas 2 :\", 1)\n",
        "  elif 1/6 <= y < 2/6 :\n",
        "    print(\"tas 1 :\", 3 ,'\\n'\"tas 2 :\", 2)\n",
        "  elif 2/6 <= y < 3/6 :\n",
        "    print(\"tas 1 :\", 3 ,'\\n'\"tas 2 :\", 3)\n",
        "  elif 3/6 <= y < 4/6 :\n",
        "    print(\"tas 1 :\", 3 ,'\\n'\"tas 2 :\", 4)\n",
        "  elif 4/6 <= y < 5/6 :\n",
        "    print(\"tas 1 :\", 3 ,'\\n'\"tas 2 :\", 5)\n",
        "  else :\n",
        "    print(\"tas 1 :\", 3 ,'\\n'\"tas 2 :\", 6)\n",
        "  break\n",
        "while 3/6 <= x < 4/6 :\n",
        "  if y < 1/6 :\n",
        "    print(\"tas 1 :\", 4 ,'\\n'\"tas 2 :\", 1)\n",
        "  elif 1/6 <= y < 2/6 :\n",
        "    print(\"tas 1 :\", 4 ,'\\n'\"tas 2 :\", 2)\n",
        "  elif 2/6 <= y < 3/6 :\n",
        "    print(\"tas 1 :\", 4 ,'\\n'\"tas 2 :\", 3)\n",
        "  elif 3/6 <= y < 4/6 :\n",
        "    print(\"tas 1 :\", 4 ,'\\n'\"tas 2 :\", 4)\n",
        "  elif 4/6 <= y < 5/6 :\n",
        "    print(\"tas 1 :\", 4 ,'\\n'\"tas 2 :\", 5)\n",
        "  else :\n",
        "    print(\"tas 1 :\", 4 ,'\\n'\"tas 2 :\", 6)\n",
        "  break\n",
        "while 4/6 <= x < 5/6 :\n",
        "  if y < 1/6 :\n",
        "    print(\"tas 1 :\", 5 ,'\\n'\"tas 2 :\", 1)\n",
        "  elif 1/6 <= y < 2/6 :\n",
        "    print(\"tas 1 :\", 5 ,'\\n'\"tas 2 :\", 2)\n",
        "  elif 2/6 <= y < 3/6 :\n",
        "    print(\"tas 1 :\", 5 ,'\\n'\"tas 2 :\", 3)\n",
        "  elif 3/6 <= y < 4/6 :\n",
        "    print(\"tas 1 :\", 5 ,'\\n'\"tas 2 :\", 4)\n",
        "  elif 4/6 <= y < 5/6 :\n",
        "    print(\"tas 1 :\", 5 ,'\\n'\"tas 2 :\", 5)\n",
        "  else :\n",
        "    print(\"tas 1 :\", 5 ,'\\n'\"tas 2 :\", 6)\n",
        "  break\n",
        "while  5/6 <= x :\n",
        "  if y < 1/6 :\n",
        "    print(\"tas 1 :\", 6 ,'\\n'\"tas 2 :\", 1)\n",
        "  elif 1/6 <= y < 2/6 :\n",
        "    print(\"tas 1 :\", 6 ,'\\n'\"tas 2 :\", 2)\n",
        "  elif 2/6 <= y < 3/6 :\n",
        "    print(\"tas 1 :\", 6 ,'\\n'\"tas 2 :\", 3)\n",
        "  elif 3/6 <= y < 4/6 :\n",
        "    print(\"tas 1 :\", 6 ,'\\n'\"tas 2 :\", 4)\n",
        "  elif 4/6 <= y < 5/6 :\n",
        "    print(\"tas 1 :\", 6 ,'\\n'\"tas 2 :\", 5)\n",
        "  else :\n",
        "    print(\"tas 1 :\", 6 ,'\\n'\"tas 2 :\", 6)\n",
        "  break\n",
        "timeit.timeit()"
      ],
      "metadata": {
        "colab": {
          "base_uri": "https://localhost:8080/"
        },
        "id": "Wu_bZRYVBRSi",
        "outputId": "983b1624-4417-4115-c08a-801d9bd3f32c"
      },
      "execution_count": 2,
      "outputs": [
        {
          "output_type": "stream",
          "name": "stdout",
          "text": [
            "x =  0.049841139588050476 \n",
            "y =  0.47452823823777246\n",
            "tas 1 : 1 \n",
            "tas 2 : 3\n"
          ]
        },
        {
          "output_type": "execute_result",
          "data": {
            "text/plain": [
              "0.016022695999993175"
            ]
          },
          "metadata": {},
          "execution_count": 2
        }
      ]
    }
  ]
}