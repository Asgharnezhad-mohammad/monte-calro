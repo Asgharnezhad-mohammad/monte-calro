{
  "nbformat": 4,
  "nbformat_minor": 0,
  "metadata": {
    "colab": {
      "name": "Harmunik mean.ipynb",
      "provenance": [],
      "authorship_tag": "ABX9TyN2zve3KVoxfdTlhEg12HEh",
      "include_colab_link": true
    },
    "kernelspec": {
      "name": "python3",
      "display_name": "Python 3"
    },
    "language_info": {
      "name": "python"
    }
  },
  "cells": [
    {
      "cell_type": "markdown",
      "metadata": {
        "id": "view-in-github",
        "colab_type": "text"
      },
      "source": [
        "<a href=\"https://colab.research.google.com/github/Mohasg77/monte-calro/blob/master/Harmunik_mean.ipynb\" target=\"_parent\"><img src=\"https://colab.research.google.com/assets/colab-badge.svg\" alt=\"Open In Colab\"/></a>"
      ]
    },
    {
      "cell_type": "code",
      "source": [
        "%reset -f\n",
        "from statistics import harmonic_mean\n",
        "\n",
        "enter = \"y\"\n",
        "a = []\n",
        "while enter == \"y\" :\n",
        "  b = float(input(\"enter number: \"))\n",
        "  a.append(b)\n",
        "  enter = input(\"enter 'y' for continue: \")\n",
        "print(\"Harmonic mean = \", harmonic_mean(a))"
      ],
      "metadata": {
        "id": "ZIkcc6mGc5Bh"
      },
      "execution_count": null,
      "outputs": []
    },
    {
      "cell_type": "code",
      "metadata": {
        "colab": {
          "base_uri": "https://localhost:8080/"
        },
        "id": "EpAS8FUaxVQ-",
        "outputId": "5761efb4-94a7-4421-c4fc-6336379d6f39"
      },
      "source": [
        "n = int(input(\"Number of numbers : \"))\n",
        "sum = 0\n",
        "for i in range(1, n + 1):\n",
        "  print(\"number \", i ,\"=====>\", end=\" \")\n",
        "  a = float(input())\n",
        "  sum += (1/a)   \n",
        "  H_mean = n / sum\n",
        "print(H_mean , \" :میانگین هارمونیک برابر است با\")"
      ],
      "execution_count": null,
      "outputs": [
        {
          "output_type": "stream",
          "name": "stdout",
          "text": [
            "Number of numbers : 3\n",
            "number  1 =====> 2\n",
            "number  2 =====> 3\n",
            "number  3 =====> 4\n",
            "2.7692307692307696  :میانگین هارمونیک برابر است با\n"
          ]
        }
      ]
    }
  ]
}