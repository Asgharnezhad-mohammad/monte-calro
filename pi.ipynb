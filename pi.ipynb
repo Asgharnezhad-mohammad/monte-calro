{
  "nbformat": 4,
  "nbformat_minor": 0,
  "metadata": {
    "colab": {
      "name": "pi.ipynb",
      "provenance": [],
      "collapsed_sections": [],
      "authorship_tag": "ABX9TyNxJhDnsxd8lptkp2o+Ik9A",
      "include_colab_link": true
    },
    "kernelspec": {
      "name": "python3",
      "display_name": "Python 3"
    },
    "language_info": {
      "name": "python"
    }
  },
  "cells": [
    {
      "cell_type": "markdown",
      "metadata": {
        "id": "view-in-github",
        "colab_type": "text"
      },
      "source": [
        "<a href=\"https://colab.research.google.com/github/Mohasg77/monte-calro/blob/master/pi.ipynb\" target=\"_parent\"><img src=\"https://colab.research.google.com/assets/colab-badge.svg\" alt=\"Open In Colab\"/></a>"
      ]
    },
    {
      "cell_type": "code",
      "metadata": {
        "colab": {
          "base_uri": "https://localhost:8080/"
        },
        "id": "mmV6NY2UyLrm",
        "outputId": "dc3771c0-4563-47c4-9dec-bb267fa397d9"
      },
      "source": [
        "import random\n",
        "x ,y ,sum, r ,p = 0,0,0,0,0\n",
        "\n",
        "N = int(input(\"Enter number of repetitions : \"))\n",
        "r = int(input(\"Enter radious : \"))\n",
        "for i in range(N) :\n",
        "  x = random.uniform(-r,r)\n",
        "  y = random.uniform(-r,r)\n",
        "  if x**2 + y**2 <= r**2:\n",
        "    p = 1\n",
        "  else:\n",
        "    p = 0\n",
        "  sum += p\n",
        "print(4 * sum / N)\n",
        "  "
      ],
      "execution_count": 4,
      "outputs": [
        {
          "output_type": "stream",
          "name": "stdout",
          "text": [
            "Enter number of repetitions : 1000\n",
            "Enter radious : 2\n",
            "3.116\n"
          ]
        }
      ]
    }
  ]
}