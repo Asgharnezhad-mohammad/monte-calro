{
  "nbformat": 4,
  "nbformat_minor": 0,
  "metadata": {
    "colab": {
      "name": "poisson process  plot.ipynb",
      "provenance": [],
      "collapsed_sections": [],
      "authorship_tag": "ABX9TyPhq6e+yuM6ZYO21IIF/ZBy",
      "include_colab_link": true
    },
    "kernelspec": {
      "name": "python3",
      "display_name": "Python 3"
    },
    "language_info": {
      "name": "python"
    }
  },
  "cells": [
    {
      "cell_type": "markdown",
      "metadata": {
        "id": "view-in-github",
        "colab_type": "text"
      },
      "source": [
        "<a href=\"https://colab.research.google.com/github/Mohasg77/monte-calro/blob/master/poisson_process_plot.ipynb\" target=\"_parent\"><img src=\"https://colab.research.google.com/assets/colab-badge.svg\" alt=\"Open In Colab\"/></a>"
      ]
    },
    {
      "cell_type": "code",
      "metadata": {
        "colab": {
          "base_uri": "https://localhost:8080/",
          "height": 320
        },
        "id": "nBeefPJJAaRG",
        "outputId": "6ab4f45a-7e97-4b05-dfa6-39fb9c94c7c0"
      },
      "source": [
        "from numpy import  *\n",
        "import matplotlib.pyplot as plt\n",
        "import seaborn as sn\n",
        "\n",
        "a = random.poisson(lam= 5, size= 5000)\n",
        "b = sn.distplot(a ,hist=True)\n",
        "plt.hist(a ,16 ,stacked=True ,color='Green')\n",
        "\n",
        "plt.show()"
      ],
      "execution_count": 2,
      "outputs": [
        {
          "output_type": "stream",
          "name": "stderr",
          "text": [
            "/usr/local/lib/python3.7/dist-packages/seaborn/distributions.py:2619: FutureWarning: `distplot` is a deprecated function and will be removed in a future version. Please adapt your code to use either `displot` (a figure-level function with similar flexibility) or `histplot` (an axes-level function for histograms).\n",
            "  warnings.warn(msg, FutureWarning)\n"
          ]
        },
        {
          "output_type": "display_data",
          "data": {
            "text/plain": [
              "<Figure size 432x288 with 1 Axes>"
            ],
            "image/png": "[encoded data removed]"
          },
          "metadata": {
            "needs_background": "light"
          }
        }
      ]
    },
    {
      "cell_type": "code",
      "source": [
        "import numpy as np\n",
        "\n",
        "t ,T ,landa = 0 ,100 ,0.2\n",
        "countor = 0\n",
        "S = []\n",
        "uniform = np.random.uniform(0,1)\n",
        "while T > t:\n",
        "  countor += 1\n",
        "  t = t - np.log(uniform) / landa\n",
        "  S.append(t)\n",
        "  uniform = np.random.uniform(0,1)\n",
        "  t = t - np.log(uniform) / landa\n",
        "countor\n"
      ],
      "metadata": {
        "colab": {
          "base_uri": "https://localhost:8080/"
        },
        "id": "OkfZ86-nIFPs",
        "outputId": "2bd1b290-c6b5-44a8-a68f-e4b8e9527fb1"
      },
      "execution_count": null,
      "outputs": [
        {
          "output_type": "execute_result",
          "data": {
            "text/plain": [
              "17"
            ]
          },
          "metadata": {},
          "execution_count": 29
        }
      ]
    }
  ]
}