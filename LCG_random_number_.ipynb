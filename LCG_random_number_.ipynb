{
  "nbformat": 4,
  "nbformat_minor": 0,
  "metadata": {
    "colab": {
      "name": "LCG random number .ipynb",
      "provenance": [],
      "collapsed_sections": [],
      "authorship_tag": "ABX9TyN/tXL0gziif7pODN1jwUZZ",
      "include_colab_link": true
    },
    "kernelspec": {
      "name": "python3",
      "display_name": "Python 3"
    },
    "language_info": {
      "name": "python"
    }
  },
  "cells": [
    {
      "cell_type": "markdown",
      "metadata": {
        "id": "view-in-github",
        "colab_type": "text"
      },
      "source": [
        "<a href=\"https://colab.research.google.com/github/Mohasg77/monte-calro/blob/master/LCG_random_number_.ipynb\" target=\"_parent\"><img src=\"https://colab.research.google.com/assets/colab-badge.svg\" alt=\"Open In Colab\"/></a>"
      ]
    },
    {
      "cell_type": "code",
      "execution_count": null,
      "metadata": {
        "colab": {
          "base_uri": "https://localhost:8080/"
        },
        "id": "JFUtlzv8WgBg",
        "outputId": "a0400aef-6785-4648-c2cd-08707ac8ae9a"
      },
      "outputs": [
        {
          "output_type": "stream",
          "name": "stdout",
          "text": [
            "Enter multiplier : 5\n",
            "Enter increment : 1\n",
            "Enter a moudle : 16\n",
            "Enter a seed : 5\n",
            "0.625 ,0.1875 ,0.0 ,0.0625 ,0.375 ,0.9375 ,0.75 ,0.8125 ,0.125 ,0.6875 ,0.5 ,0.5625 ,0.875 ,0.4375 ,0.25 ,0.3125 ,0.625 ,0.1875 ,0.0 ,"
          ]
        }
      ],
      "source": [
        "a = int(input(\"Enter multiplier : \"))\n",
        "b = int(input(\"Enter increment : \"))\n",
        "m = int(input(\"Enter a moudle : \"))\n",
        "seed = int(input(\"Enter a seed : \"))\n",
        "\n",
        "for i in range(m + 3):\n",
        "  seed = (a * seed + b) % m\n",
        "  print(seed /m ,end = \" ,\")"
      ]
    }
  ]
}