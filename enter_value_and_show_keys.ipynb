{
  "nbformat": 4,
  "nbformat_minor": 0,
  "metadata": {
    "colab": {
      "name": "enter value and show keys.ipynb",
      "provenance": [],
      "collapsed_sections": [],
      "authorship_tag": "ABX9TyMY4gjOhfGPofqglNUVMfMZ",
      "include_colab_link": true
    },
    "kernelspec": {
      "name": "python3",
      "display_name": "Python 3"
    },
    "language_info": {
      "name": "python"
    }
  },
  "cells": [
    {
      "cell_type": "markdown",
      "metadata": {
        "id": "view-in-github",
        "colab_type": "text"
      },
      "source": [
        "<a href=\"https://colab.research.google.com/github/Mohasg77/monte-calro/blob/master/enter_value_and_show_keys.ipynb\" target=\"_parent\"><img src=\"https://colab.research.google.com/assets/colab-badge.svg\" alt=\"Open In Colab\"/></a>"
      ]
    },
    {
      "cell_type": "code",
      "metadata": {
        "id": "Go33M4CRmZZ-"
      },
      "source": [
        "d = {\"1\" : \"tron\",\n",
        "     \"2\" : \"bitcoin\",\n",
        "     \"3\" : \"shiba\",\n",
        "     \"4\" : \"teter\",\n",
        "     \"5\" : \"meta\"\n",
        "    }\n",
        "s = {}\n",
        "for k,v in d.items():\n",
        "  s[v] = k\n",
        "print(s)\n",
        "a = input(\"Enter the values: \")\n",
        "if s.get(a,False):\n",
        "  print(s[a])\n",
        "else:\n",
        "  print(\"no existing\")"
      ],
      "execution_count": null,
      "outputs": []
    }
  ]
}