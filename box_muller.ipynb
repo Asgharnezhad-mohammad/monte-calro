{
  "nbformat": 4,
  "nbformat_minor": 0,
  "metadata": {
    "colab": {
      "name": "box muller.ipynb",
      "provenance": [],
      "authorship_tag": "ABX9TyPi2YF8Fei71eVs89AIqFzU",
      "include_colab_link": true
    },
    "kernelspec": {
      "name": "python3",
      "display_name": "Python 3"
    },
    "language_info": {
      "name": "python"
    }
  },
  "cells": [
    {
      "cell_type": "markdown",
      "metadata": {
        "id": "view-in-github",
        "colab_type": "text"
      },
      "source": [
        "<a href=\"https://colab.research.google.com/github/Mohasg77/monte-calro/blob/master/box_muller.ipynb\" target=\"_parent\"><img src=\"https://colab.research.google.com/assets/colab-badge.svg\" alt=\"Open In Colab\"/></a>"
      ]
    },
    {
      "cell_type": "code",
      "execution_count": null,
      "metadata": {
        "colab": {
          "base_uri": "https://localhost:8080/",
          "height": 265
        },
        "id": "-NJJiwoUFtrU",
        "outputId": "b360b29f-8a4b-459b-9f95-400f44fbfe2f"
      },
      "outputs": [
        {
          "output_type": "display_data",
          "data": {
            "image/png": "[encoded data removed]",
            "text/plain": [
              "<Figure size 432x288 with 2 Axes>"
            ]
          },
          "metadata": {
            "needs_background": "light"
          }
        }
      ],
      "source": [
        "import sys\n",
        "from numpy import *\n",
        "import matplotlib.pyplot as plt\n",
        "\n",
        "u1 = random.uniform(size = 1000)\n",
        "u2 = random.uniform(size = 1000)\n",
        "r = sqrt(-2 * log(u1))\n",
        "theta = 2 * pi * u2\n",
        "x = r * cos(theta)\n",
        "y = r * sin(theta)\n",
        "fig,(ax1,ax2) = plt.subplots(1, 2)\n",
        "ax1.hist(x)\n",
        "ax2.hist(y)\n",
        "ax1.hist(u1)\n",
        "ax2.hist(u2)\n",
        "plt.show()"
      ]
    }
  ]
}