{
  "nbformat": 4,
  "nbformat_minor": 0,
  "metadata": {
    "colab": {
      "name": "Condition variable Z .ipynb",
      "provenance": [],
      "authorship_tag": "ABX9TyPYKkTZ67l6vA9HHo5mWab1",
      "include_colab_link": true
    },
    "kernelspec": {
      "name": "python3",
      "display_name": "Python 3"
    },
    "language_info": {
      "name": "python"
    }
  },
  "cells": [
    {
      "cell_type": "markdown",
      "metadata": {
        "id": "view-in-github",
        "colab_type": "text"
      },
      "source": [
        "<a href=\"https://colab.research.google.com/github/Mohasg77/monte-calro/blob/master/Condition_variable_Z_.ipynb\" target=\"_parent\"><img src=\"https://colab.research.google.com/assets/colab-badge.svg\" alt=\"Open In Colab\"/></a>"
      ]
    },
    {
      "cell_type": "code",
      "execution_count": 25,
      "metadata": {
        "id": "_UvrwpsYfzd5",
        "colab": {
          "base_uri": "https://localhost:8080/"
        },
        "outputId": "b02647c9-c928-4c2c-d5c4-83253cd1e8d4"
      },
      "outputs": [
        {
          "output_type": "execute_result",
          "data": {
            "text/plain": [
              "0.0"
            ]
          },
          "metadata": {},
          "execution_count": 25
        }
      ],
      "source": [
        "%reset -f\n",
        "import numpy as np\n",
        "\n",
        "U ,Z = [] ,[]\n",
        "T = 100\n",
        "counter = 0\n",
        "for i in range(T):\n",
        "  Z.append(np.random.exponential(1 / 2))\n",
        "for i in range(T):\n",
        "  U.append(np.random.uniform(0 ,1))\n",
        "for i in range(T):\n",
        "  if U[i] > Z[i]:\n",
        "    x = 1\n",
        "    counter += x\n",
        "counter / T\n"
      ]
    }
  ]
}