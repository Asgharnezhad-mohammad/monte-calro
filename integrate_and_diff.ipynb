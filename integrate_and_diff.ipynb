{
  "nbformat": 4,
  "nbformat_minor": 0,
  "metadata": {
    "colab": {
      "name": "integrate and diff.ipynb",
      "provenance": [],
      "authorship_tag": "ABX9TyNCkCBjijVT1d2EZ+jlVXOP",
      "include_colab_link": true
    },
    "kernelspec": {
      "name": "python3",
      "display_name": "Python 3"
    },
    "language_info": {
      "name": "python"
    }
  },
  "cells": [
    {
      "cell_type": "markdown",
      "metadata": {
        "id": "view-in-github",
        "colab_type": "text"
      },
      "source": [
        "<a href=\"https://colab.research.google.com/github/Mohasg77/monte-calro/blob/master/integrate_and_diff.ipynb\" target=\"_parent\"><img src=\"https://colab.research.google.com/assets/colab-badge.svg\" alt=\"Open In Colab\"/></a>"
      ]
    },
    {
      "cell_type": "code",
      "execution_count": null,
      "metadata": {
        "id": "iYAlt2mnOV0W"
      },
      "outputs": [],
      "source": [
        "import numpy as np\n",
        "from numpy import random\n",
        "import sympy as sy"
      ]
    },
    {
      "cell_type": "code",
      "source": [
        "x,y = sy.symbols(\"x,y\")\n",
        "f = sy.Function('f')(x,y)\n",
        "f = sy.sin(x) / x\n",
        "\n",
        "print(f,'\\n'\"-----------\", '\\n',f.integrate((x,0,1)),'\\n')\n",
        "f.integrate((x,0,1)).evalf()"
      ],
      "metadata": {
        "id": "4BGguhQmOgA9",
        "colab": {
          "base_uri": "https://localhost:8080/",
          "height": 107
        },
        "outputId": "e891d84f-0774-4986-c53b-76ce6ad76e0f"
      },
      "execution_count": null,
      "outputs": [
        {
          "output_type": "stream",
          "name": "stdout",
          "text": [
            "sin(x)/x \n",
            "----------- \n",
            " Si(1) \n",
            "\n"
          ]
        },
        {
          "output_type": "execute_result",
          "data": {
            "text/latex": "$\\displaystyle 0.946083070367183$",
            "text/plain": [
              "0.946083070367183"
            ]
          },
          "metadata": {},
          "execution_count": 3
        }
      ]
    },
    {
      "cell_type": "code",
      "source": [
        "g = sy.exp(-x)\n",
        "\n",
        "print(g,'\\n'\"-----------\", '\\n',g.integrate((x,0,1)),'\\n')\n",
        "g.integrate((x,0,1)).evalf(5)"
      ],
      "metadata": {
        "id": "M934u1T0OpXb",
        "colab": {
          "base_uri": "https://localhost:8080/",
          "height": 107
        },
        "outputId": "e4d22967-c92a-4d01-8ab9-5fa41145e955"
      },
      "execution_count": null,
      "outputs": [
        {
          "output_type": "stream",
          "name": "stdout",
          "text": [
            "exp(-x) \n",
            "----------- \n",
            " 1 - exp(-1) \n",
            "\n"
          ]
        },
        {
          "output_type": "execute_result",
          "data": {
            "text/latex": "$\\displaystyle 0.63212$",
            "text/plain": [
              "0.63212"
            ]
          },
          "metadata": {},
          "execution_count": 5
        }
      ]
    },
    {
      "cell_type": "code",
      "source": [
        "f = sy.exp(- x ** 2)\n",
        "\n",
        "print(f ,'\\n'\"-------------\",'\\n', f.integrate((x,1,3)).evalf())\n",
        "sy.integrate(f,(x,1,3))\n"
      ],
      "metadata": {
        "id": "HBng8DlYOv8u",
        "colab": {
          "base_uri": "https://localhost:8080/",
          "height": 105
        },
        "outputId": "edd6a23d-2463-425a-bdc4-3a2a081595cd"
      },
      "execution_count": null,
      "outputs": [
        {
          "output_type": "stream",
          "name": "stdout",
          "text": [
            "exp(-x**2) \n",
            "------------- \n",
            " 0.139383215447094\n"
          ]
        },
        {
          "output_type": "execute_result",
          "data": {
            "text/latex": "$\\displaystyle - \\frac{\\sqrt{\\pi} \\operatorname{erf}{\\left(1 \\right)}}{2} + \\frac{\\sqrt{\\pi} \\operatorname{erf}{\\left(3 \\right)}}{2}$",
            "text/plain": [
              "-sqrt(pi)*erf(1)/2 + sqrt(pi)*erf(3)/2"
            ]
          },
          "metadata": {},
          "execution_count": 13
        }
      ]
    },
    {
      "cell_type": "code",
      "source": [
        "f = x**2 - x\n",
        "print(f ,'\\n'\"-------------\" ,'\\n' ,f.integrate((x,1,3)).evalf() ,'\\n')\n",
        "f.integrate()"
      ],
      "metadata": {
        "id": "Qw03UNX0Ow9H",
        "colab": {
          "base_uri": "https://localhost:8080/",
          "height": 123
        },
        "outputId": "07bbf04b-1f07-46a2-8564-f003e6c7b7c4"
      },
      "execution_count": null,
      "outputs": [
        {
          "output_type": "stream",
          "name": "stdout",
          "text": [
            "x**2 - x \n",
            "------------- \n",
            " 4.66666666666667 \n",
            "\n"
          ]
        },
        {
          "output_type": "execute_result",
          "data": {
            "text/latex": "$\\displaystyle \\frac{x^{3}}{3} - \\frac{x^{2}}{2}$",
            "text/plain": [
              "x**3/3 - x**2/2"
            ]
          },
          "metadata": {},
          "execution_count": 14
        }
      ]
    },
    {
      "cell_type": "code",
      "source": [
        "g = sy.exp(-x-y)\n",
        "asg = sy.Integral(g,(x,1,2),(y,0,1))\n",
        "asg\n",
        "asg.doit().evalf()"
      ],
      "metadata": {
        "id": "t1_zkO0bO4sM",
        "colab": {
          "base_uri": "https://localhost:8080/",
          "height": 37
        },
        "outputId": "4427ef10-e149-4c7e-d91e-3cfa6622646e"
      },
      "execution_count": null,
      "outputs": [
        {
          "output_type": "execute_result",
          "data": {
            "text/latex": "$\\displaystyle 0.146995943066081$",
            "text/plain": [
              "0.146995943066081"
            ]
          },
          "metadata": {},
          "execution_count": 10
        }
      ]
    },
    {
      "cell_type": "code",
      "source": [
        "p = sy.symbols(\"p\")\n",
        "sy.diff(sy.tan(sy.cos(2 * p)),p)"
      ],
      "metadata": {
        "id": "68sqjA2SQY02",
        "colab": {
          "base_uri": "https://localhost:8080/",
          "height": 38
        },
        "outputId": "606b5e01-f899-454a-ddfb-0d552ca4e2eb"
      },
      "execution_count": null,
      "outputs": [
        {
          "output_type": "execute_result",
          "data": {
            "text/latex": "$\\displaystyle - 2 \\left(\\tan^{2}{\\left(\\cos{\\left(2 p \\right)} \\right)} + 1\\right) \\sin{\\left(2 p \\right)}$",
            "text/plain": [
              "-2*(tan(cos(2*p))**2 + 1)*sin(2*p)"
            ]
          },
          "metadata": {},
          "execution_count": 12
        }
      ]
    },
    {
      "cell_type": "code",
      "source": [
        "g = (x ** 2 + y ** 1/3)**2\n",
        "asg = sy.Integral(g,(x,0,1),(y,0,1))\n",
        "asg\n",
        "asg.doit().evalf()"
      ],
      "metadata": {
        "colab": {
          "base_uri": "https://localhost:8080/",
          "height": 37
        },
        "id": "zJ2A4jm9o9qo",
        "outputId": "a8d4f250-64a4-4796-8060-1c5089803318"
      },
      "execution_count": null,
      "outputs": [
        {
          "output_type": "execute_result",
          "data": {
            "text/latex": "$\\displaystyle 0.348148148148148$",
            "text/plain": [
              "0.348148148148148"
            ]
          },
          "metadata": {},
          "execution_count": 5
        }
      ]
    }
  ]
}