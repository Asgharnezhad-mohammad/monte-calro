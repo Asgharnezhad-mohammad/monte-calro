{
  "nbformat": 4,
  "nbformat_minor": 0,
  "metadata": {
    "colab": {
      "name": "entegrate(e vs sin).ipynb",
      "provenance": [],
      "collapsed_sections": [],
      "authorship_tag": "ABX9TyM0MtTAB1TtUsK5AgwopVIg",
      "include_colab_link": true
    },
    "kernelspec": {
      "name": "python3",
      "display_name": "Python 3"
    },
    "language_info": {
      "name": "python"
    }
  },
  "cells": [
    {
      "cell_type": "markdown",
      "metadata": {
        "id": "view-in-github",
        "colab_type": "text"
      },
      "source": [
        "<a href=\"https://colab.research.google.com/github/Mohasg77/monte-calro/blob/master/entegrate(e_vs_sin).ipynb\" target=\"_parent\"><img src=\"https://colab.research.google.com/assets/colab-badge.svg\" alt=\"Open In Colab\"/></a>"
      ]
    },
    {
      "cell_type": "code",
      "metadata": {
        "id": "w0pjFUjnQevB"
      },
      "source": [
        "import numpy as np\n",
        "from numpy import random\n",
        "import sympy as sy"
      ],
      "execution_count": 1,
      "outputs": []
    },
    {
      "cell_type": "code",
      "metadata": {
        "id": "9-KlfnPrvo12",
        "colab": {
          "base_uri": "https://localhost:8080/",
          "height": 107
        },
        "outputId": "f3dd432a-d9e5-404e-9e4b-5b4e9c687b1f"
      },
      "source": [
        "x,y = sy.symbols(\"x,y\")\n",
        "f = sy.Function('f')(x,y)\n",
        "f = sy.sin(x) / x\n",
        "print(f,'\\n'\"-----------\")\n",
        "print(f.integrate((x,0,1)),'\\n')\n",
        "f.integrate((x,0,1)).evalf(10)"
      ],
      "execution_count": 2,
      "outputs": [
        {
          "output_type": "stream",
          "name": "stdout",
          "text": [
            "sin(x)/x \n",
            "-----------\n",
            "Si(1) \n",
            "\n"
          ]
        },
        {
          "output_type": "execute_result",
          "data": {
            "text/plain": [
              "0.9460830704"
            ],
            "text/latex": "$\\displaystyle 0.9460830704$"
          },
          "metadata": {},
          "execution_count": 2
        }
      ]
    },
    {
      "cell_type": "code",
      "metadata": {
        "id": "YjGEed8-KSq0",
        "colab": {
          "base_uri": "https://localhost:8080/",
          "height": 107
        },
        "outputId": "9cb723e6-c19a-485e-f9e1-3cb445f571fd"
      },
      "source": [
        "g = sy.exp(-x)\n",
        "print(g, '\\n'\"-----------\")\n",
        "print(g.integrate((x,0,1)), '\\n')\n",
        "g.integrate((x,0,1)).evalf(10)"
      ],
      "execution_count": 3,
      "outputs": [
        {
          "output_type": "stream",
          "name": "stdout",
          "text": [
            "exp(-x) \n",
            "-----------\n",
            "1 - exp(-1) \n",
            "\n"
          ]
        },
        {
          "output_type": "execute_result",
          "data": {
            "text/plain": [
              "0.6321205588"
            ],
            "text/latex": "$\\displaystyle 0.6321205588$"
          },
          "metadata": {},
          "execution_count": 3
        }
      ]
    },
    {
      "cell_type": "code",
      "metadata": {
        "id": "gYtdScCUQYz3",
        "colab": {
          "base_uri": "https://localhost:8080/"
        },
        "outputId": "97fb080a-7a86-4988-8c86-d544620c2e7e"
      },
      "source": [
        "x,y = sy.symbols(\"x,y\")\n",
        "f = sy.Function('f')(x,y)\n",
        "f = sy.exp(- x ** 2)\n",
        "print(f ,'\\n'\"-------------\")\n",
        "print(f.integrate((x,0,sy.oo)))\n",
        "print(f.integrate((x,0,sy.oo)).evalf(5))"
      ],
      "execution_count": 4,
      "outputs": [
        {
          "output_type": "stream",
          "name": "stdout",
          "text": [
            "exp(-x**2) \n",
            "-------------\n",
            "sqrt(pi)/2\n",
            "0.88623\n"
          ]
        }
      ]
    },
    {
      "cell_type": "code",
      "metadata": {
        "id": "WDMWimKNS0ds",
        "colab": {
          "base_uri": "https://localhost:8080/"
        },
        "outputId": "c0099c84-ca57-47f7-e2e1-6a392dad8d05"
      },
      "source": [
        "a = np.random.lognormal(mean = 1, sigma = 3)\n",
        "x,y = sy.symbols(\"x,y\")\n",
        "f = sy.Function('f')(x,y)\n",
        "f = x**2 - x\n",
        "print(a)\n",
        "print(f.integrate() ,'\\n'\"-----------\")\n",
        "print(2*a* f.integrate((x,1,3)))"
      ],
      "execution_count": 5,
      "outputs": [
        {
          "output_type": "stream",
          "name": "stdout",
          "text": [
            "0.03705892827658886\n",
            "x**3/3 - x**2/2 \n",
            "-----------\n",
            "0.345883330581496\n"
          ]
        }
      ]
    },
    {
      "cell_type": "code",
      "metadata": {
        "id": "6thJ6VNGTv3u",
        "colab": {
          "base_uri": "https://localhost:8080/",
          "height": 51
        },
        "outputId": "cb9d4f6c-13ca-4471-fb04-bb640f776fc0"
      },
      "source": [
        "g = sy.Function('g')(x,y)\n",
        "g = sy.exp(-x-y)\n",
        "asg = sy.Integral(g,(x,1,2),(y,0,1))\n",
        "asg.doit()"
      ],
      "execution_count": 6,
      "outputs": [
        {
          "output_type": "execute_result",
          "data": {
            "text/plain": [
              "(1 - E)*exp(-3) - (1 - E)*exp(-2)"
            ],
            "text/latex": "$\\displaystyle \\frac{1 - e}{e^{3}} - \\frac{1 - e}{e^{2}}$"
          },
          "metadata": {},
          "execution_count": 6
        }
      ]
    }
  ]
}