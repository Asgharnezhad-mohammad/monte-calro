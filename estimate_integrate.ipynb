{
  "nbformat": 4,
  "nbformat_minor": 0,
  "metadata": {
    "colab": {
      "name": "estimate integrate.ipynb",
      "provenance": [],
      "collapsed_sections": [],
      "authorship_tag": "ABX9TyP/MOkiPkxrOfhQ1HSSEary",
      "include_colab_link": true
    },
    "kernelspec": {
      "name": "python3",
      "display_name": "Python 3"
    },
    "language_info": {
      "name": "python"
    }
  },
  "cells": [
    {
      "cell_type": "markdown",
      "metadata": {
        "id": "view-in-github",
        "colab_type": "text"
      },
      "source": [
        "<a href=\"https://colab.research.google.com/github/Mohasg77/monte-calro/blob/master/estimate_integrate.ipynb\" target=\"_parent\"><img src=\"https://colab.research.google.com/assets/colab-badge.svg\" alt=\"Open In Colab\"/></a>"
      ]
    },
    {
      "cell_type": "code",
      "execution_count": null,
      "metadata": {
        "id": "iwUtS6IiuIIo"
      },
      "outputs": [],
      "source": [
        "from numpy import *\n",
        "\n",
        "n ,z ,counter = 1 ,0 ,0\n",
        "\n",
        "while not(n > 1000 and abs(z - counter) < 10 ** -4):\n",
        "  z = counter\n",
        "  x = random.uniform(0 ,1 ,n)\n",
        "  z = mean(sin(x) / x)\n",
        "  n += 1\n",
        "print(\"n = \" ,n ,'\\n'\"estimate sin x /x = \" ,z)\n"
      ]
    },
    {
      "cell_type": "code",
      "source": [
        "x = random.uniform(0 ,1 ,1000)\n",
        "z = mean(sin(x) / x)\n",
        "z"
      ],
      "metadata": {
        "colab": {
          "base_uri": "https://localhost:8080/"
        },
        "id": "5nzKfkVR5fBP",
        "outputId": "c6a9d0fc-6deb-4c85-c071-a79979194afb"
      },
      "execution_count": null,
      "outputs": [
        {
          "output_type": "execute_result",
          "data": {
            "text/plain": [
              "0.9452091100188973"
            ]
          },
          "metadata": {},
          "execution_count": 6
        }
      ]
    },
    {
      "cell_type": "code",
      "source": [
        "from numpy import *\n",
        "\n",
        "n ,z ,counter = 1 ,0 ,0\n",
        "\n",
        "while not(abs(z - counter) > 10 ** -4 and n > 1000) :\n",
        "  z = counter\n",
        "  x = random.uniform(0 ,1 ,n)\n",
        "  z = mean(exp(- x))\n",
        "  n += 1\n",
        "print(\"n = \" ,n ,'\\n'\"estimate exp(- x) = \" ,z)\n"
      ],
      "metadata": {
        "colab": {
          "base_uri": "https://localhost:8080/"
        },
        "id": "ZF1oEPyl9JE1",
        "outputId": "d0beb0ae-5026-4ba7-83b9-4ff85b7f6607"
      },
      "execution_count": null,
      "outputs": [
        {
          "output_type": "stream",
          "name": "stdout",
          "text": [
            "n =  1001 \n",
            "estimate exp(- x) =  0.640748288734399\n"
          ]
        }
      ]
    },
    {
      "cell_type": "code",
      "source": [
        "from numpy import *\n",
        "\n",
        "n ,z ,counter = 1 ,0 ,0\n",
        "\n",
        "while not(abs(z - counter) > 10 ** -4 and n > 1000) :\n",
        "  z = counter\n",
        "  x = random.uniform(1 ,3 ,n)\n",
        "  z = mean((pow(x ,2) + x))\n",
        "  n += 1\n",
        "print(\"n = \" ,n ,'\\n'\"estimate x^2 + x = \" ,z)"
      ],
      "metadata": {
        "colab": {
          "base_uri": "https://localhost:8080/"
        },
        "id": "0ReY7IdNBaki",
        "outputId": "152cc47c-0ecc-482e-d769-28f1f52615b9"
      },
      "execution_count": null,
      "outputs": [
        {
          "output_type": "stream",
          "name": "stdout",
          "text": [
            "n =  1001 \n",
            "estimate x^2 + x =  12.936126383471473\n"
          ]
        }
      ]
    },
    {
      "cell_type": "code",
      "source": [
        "from numpy import *\n",
        "\n",
        "n ,z ,counter = 1 ,0 ,0\n",
        "\n",
        "while not(abs(z - counter) > 10 ** -4 and n > 1000) :\n",
        "  z = counter\n",
        "  x = random.uniform(0 ,1 ,n)\n",
        "  y = random.uniform(1 ,2 ,n)\n",
        "  z = mean(exp(-x -y))\n",
        "  n += 1\n",
        "print(\"n = \" ,n ,'\\n'\"estimate exp(- x -y) = \" ,z)"
      ],
      "metadata": {
        "colab": {
          "base_uri": "https://localhost:8080/"
        },
        "id": "ed-Pe4LAM7_J",
        "outputId": "4aa33015-7632-4ea5-80f7-e6013258f71d"
      },
      "execution_count": null,
      "outputs": [
        {
          "output_type": "stream",
          "name": "stdout",
          "text": [
            "n =  1001 \n",
            "estimate exp(- x -y) =  0.1480885439745943\n"
          ]
        }
      ]
    }
  ]
}