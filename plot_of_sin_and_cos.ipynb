{
  "nbformat": 4,
  "nbformat_minor": 0,
  "metadata": {
    "colab": {
      "name": "plot of sin and cos.ipynb",
      "provenance": [],
      "collapsed_sections": [],
      "authorship_tag": "ABX9TyPVuK028x3sOgNkMluTRFOf",
      "include_colab_link": true
    },
    "kernelspec": {
      "name": "python3",
      "display_name": "Python 3"
    },
    "language_info": {
      "name": "python"
    }
  },
  "cells": [
    {
      "cell_type": "markdown",
      "metadata": {
        "id": "view-in-github",
        "colab_type": "text"
      },
      "source": [
        "<a href=\"https://colab.research.google.com/github/Mohasg77/monte-calro/blob/master/plot_of_sin_and_cos.ipynb\" target=\"_parent\"><img src=\"https://colab.research.google.com/assets/colab-badge.svg\" alt=\"Open In Colab\"/></a>"
      ]
    },
    {
      "cell_type": "code",
      "execution_count": null,
      "metadata": {
        "id": "NLkF9xQuOKLo"
      },
      "outputs": [],
      "source": [
        "import matplotlib as plt\n",
        "from numpy import *\n",
        "x = linspace(0, 4 * pi, 500)\n",
        "plt.pyplot.plot(x , cos(1-exp(x)) , label = \"sin(x)\" , color = \"red\")\n",
        "plt.pyplot.plot(x , cos(x) , label = \"cos(x)\", color = \"black\" )\n",
        "plt.pyplot.ylim((-3, 3))\n",
        "plt.pyplot.xlabel(\"x\")\n",
        "plt.pyplot.ylabel(\"y\")\n",
        "plt.pyplot.legend()\n",
        "plt.pyplot.show()"
      ]
    }
  ]
}