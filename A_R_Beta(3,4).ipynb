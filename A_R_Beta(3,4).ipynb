{
  "nbformat": 4,
  "nbformat_minor": 0,
  "metadata": {
    "colab": {
      "name": "A_R.Beta(3,4).ipynb",
      "provenance": [],
      "authorship_tag": "ABX9TyNpNGuOW4jSrLz6YFQTjvgn",
      "include_colab_link": true
    },
    "kernelspec": {
      "name": "python3",
      "display_name": "Python 3"
    },
    "language_info": {
      "name": "python"
    }
  },
  "cells": [
    {
      "cell_type": "markdown",
      "metadata": {
        "id": "view-in-github",
        "colab_type": "text"
      },
      "source": [
        "<a href=\"https://colab.research.google.com/github/Mohasg77/monte-calro/blob/master/A_R_Beta(3%2C4).ipynb\" target=\"_parent\"><img src=\"https://colab.research.google.com/assets/colab-badge.svg\" alt=\"Open In Colab\"/></a>"
      ]
    },
    {
      "cell_type": "markdown",
      "source": [
        "**accept reject algorithm**"
      ],
      "metadata": {
        "id": "AqQ5hLBmgJ_h"
      }
    },
    {
      "cell_type": "code",
      "execution_count": null,
      "metadata": {
        "colab": {
          "base_uri": "https://localhost:8080/"
        },
        "id": "9MKfIZ9oeCRp",
        "outputId": "e86d1d38-43d1-436d-cca2-7f89df6098e1"
      },
      "outputs": [
        {
          "output_type": "stream",
          "name": "stdout",
          "text": [
            "0.5635244936239872\n"
          ]
        },
        {
          "output_type": "execute_result",
          "data": {
            "text/plain": [
              "0.25835864134709324"
            ]
          },
          "metadata": {},
          "execution_count": 5
        }
      ],
      "source": [
        "import numpy as np\n",
        "X = 0\n",
        "g = 1\n",
        "a = 3\n",
        "z = np.random.beta(3,4)\n",
        "Y = np.random.uniform(0,1)\n",
        "U = np.random.uniform(0,1)\n",
        "while U > 20 * pow(Y ,3) * pow(1-Y ,2):\n",
        "  Y = np.random.uniform(0,1)\n",
        "  U = np.random.uniform(0,1)\n",
        "  X = Y\n",
        "print(X)\n",
        "f_z = 60 * z**3 * (1-z)**2\n",
        "f_z"
      ]
    }
  ]
}